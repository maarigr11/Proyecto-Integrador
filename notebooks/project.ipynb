{
 "cells": [
  {
   "attachments": {},
   "cell_type": "markdown",
   "id": "innocent-university",
   "metadata": {},
   "source": [
    "# Limpieza del dataset de bienes raíces\n",
    "\n",
    "Este es un conjunto de datos (dataset) reales que fue descargado usando técnicas de web scraping. El archivo contiene registros de **Fotocasa**, el cual es uno de los sitios más populares de bienes raíces en España. Contiene miles de datos de casas reales publicadas en la web www.fotocasa.com.\n",
    "\n",
    "El dataset fue descargado hace algunos años y en ningún caso se obtuvo beneficio económico de ello.\n",
    "\n",
    "Tu objetivo es extraer tanta información como sea posible con el conocimiento que tienes hasta ahora de ciencia de datos."
   ]
  },
  {
   "cell_type": "code",
   "id": "frank-heath",
   "metadata": {
    "ExecuteTime": {
     "end_time": "2025-10-14T21:31:27.296962Z",
     "start_time": "2025-10-14T21:31:26.786547Z"
    }
   },
   "source": [
    "import pandas as pd"
   ],
   "outputs": [],
   "execution_count": 1
  },
  {
   "cell_type": "markdown",
   "id": "5807eba1fce08a86",
   "metadata": {},
   "source": [
    "#### Ejercicio 00\n",
    "\n",
    "Lee el dataset data/real_estate.csv e intenta visualizar la tabla (★☆☆)"
   ]
  },
  {
   "cell_type": "code",
   "id": "82e7dea53f252c1c",
   "metadata": {
    "ExecuteTime": {
     "end_time": "2025-10-14T21:31:28.701161Z",
     "start_time": "2025-10-14T21:31:28.488931Z"
    }
   },
   "source": [
    "# Este archivo CSV contiene puntos y comas en lugar de comas como separadores\n",
    "df = pd.read_csv('../data/real_estate.csv', sep=';')\n",
    "df"
   ],
   "outputs": [
    {
     "data": {
      "text/plain": [
       "       Unnamed: 0  id_realEstates  isNew                    realEstate_name  \\\n",
       "0               1       153771986  False            ferrari 57 inmobiliaria   \n",
       "1               2       153867863  False  tecnocasa fuenlabrada ferrocarril   \n",
       "2               3       153430440  False                 look find boadilla   \n",
       "3               4       152776331  False  tecnocasa fuenlabrada ferrocarril   \n",
       "4               5       153180188  False            ferrari 57 inmobiliaria   \n",
       "...           ...             ...    ...                                ...   \n",
       "15330       15331       153901377  False                infocasa consulting   \n",
       "15331       15332       150394373  False                inmobiliaria pulpon   \n",
       "15332       15333       153901397  False             tecnocasa torrelodones   \n",
       "15333       15334       152607440  False                inmobiliaria pulpon   \n",
       "15334       15335       153901356  False                infocasa consulting   \n",
       "\n",
       "       phone_realEstate                                       url_inmueble  \\\n",
       "0           912177526.0  https://www.fotocasa.es/es/comprar/vivienda/ma...   \n",
       "1           916358736.0  https://www.fotocasa.es/es/comprar/vivienda/ma...   \n",
       "2           916350408.0  https://www.fotocasa.es/es/comprar/vivienda/ma...   \n",
       "3           916358736.0  https://www.fotocasa.es/es/comprar/vivienda/ma...   \n",
       "4           912177526.0  https://www.fotocasa.es/es/comprar/vivienda/ma...   \n",
       "...                 ...                                                ...   \n",
       "15330       911360461.0  https://www.fotocasa.es/es/comprar/vivienda/ma...   \n",
       "15331       912788039.0  https://www.fotocasa.es/es/comprar/vivienda/ma...   \n",
       "15332       912780348.0  https://www.fotocasa.es/es/comprar/vivienda/ma...   \n",
       "15333       912788039.0  https://www.fotocasa.es/es/comprar/vivienda/ma...   \n",
       "15334       911360461.0  https://www.fotocasa.es/es/comprar/vivienda/ma...   \n",
       "\n",
       "       rooms  bathrooms  surface   price  ... level4Id level5Id level6Id  \\\n",
       "0        3.0        2.0    103.0  195000  ...        0        0        0   \n",
       "1        3.0        1.0      NaN   89000  ...        0        0        0   \n",
       "2        2.0        2.0     99.0  390000  ...        0        0        0   \n",
       "3        3.0        1.0     86.0   89000  ...        0        0        0   \n",
       "4        2.0        2.0    106.0  172000  ...        0        0        0   \n",
       "...      ...        ...      ...     ...  ...      ...      ...      ...   \n",
       "15330    2.0        1.0     96.0  259470  ...        0        0        0   \n",
       "15331    3.0        1.0    150.0  165000  ...        0        0        0   \n",
       "15332    4.0        2.0    175.0  495000  ...        0        0        0   \n",
       "15333    3.0        2.0    101.0  195000  ...        0        0        0   \n",
       "15334    3.0        2.0    152.0  765000  ...        0        0        0   \n",
       "\n",
       "      level7Id level8Id accuracy          latitude          longitude zipCode  \\\n",
       "0            0        0        0  40,2948276786438  -3,44402412135624     NaN   \n",
       "1            0        0        1          40,28674           -3,79351     NaN   \n",
       "2            0        0        0  40,4115646786438  -3,90662252135624     NaN   \n",
       "3            0        0        0  40,2853785786438  -3,79508142135624     NaN   \n",
       "4            0        0        0  40,2998774864376  -3,45226301356237     NaN   \n",
       "...        ...      ...      ...               ...                ...     ...   \n",
       "15330        0        0        0          40,45416           -3,70286     NaN   \n",
       "15331        0        0        0          40,36652           -3,48951     NaN   \n",
       "15332        0        0        0          40,57444           -3,92124     NaN   \n",
       "15333        0        0        0          40,36967           -3,48105     NaN   \n",
       "15334        0        0        0          40,45773           -3,69068     NaN   \n",
       "\n",
       "      customZone  \n",
       "0            NaN  \n",
       "1            NaN  \n",
       "2            NaN  \n",
       "3            NaN  \n",
       "4            NaN  \n",
       "...          ...  \n",
       "15330        NaN  \n",
       "15331        NaN  \n",
       "15332        NaN  \n",
       "15333        NaN  \n",
       "15334        NaN  \n",
       "\n",
       "[15335 rows x 37 columns]"
      ],
      "text/html": [
       "<div>\n",
       "<style scoped>\n",
       "    .dataframe tbody tr th:only-of-type {\n",
       "        vertical-align: middle;\n",
       "    }\n",
       "\n",
       "    .dataframe tbody tr th {\n",
       "        vertical-align: top;\n",
       "    }\n",
       "\n",
       "    .dataframe thead th {\n",
       "        text-align: right;\n",
       "    }\n",
       "</style>\n",
       "<table border=\"1\" class=\"dataframe\">\n",
       "  <thead>\n",
       "    <tr style=\"text-align: right;\">\n",
       "      <th></th>\n",
       "      <th>Unnamed: 0</th>\n",
       "      <th>id_realEstates</th>\n",
       "      <th>isNew</th>\n",
       "      <th>realEstate_name</th>\n",
       "      <th>phone_realEstate</th>\n",
       "      <th>url_inmueble</th>\n",
       "      <th>rooms</th>\n",
       "      <th>bathrooms</th>\n",
       "      <th>surface</th>\n",
       "      <th>price</th>\n",
       "      <th>...</th>\n",
       "      <th>level4Id</th>\n",
       "      <th>level5Id</th>\n",
       "      <th>level6Id</th>\n",
       "      <th>level7Id</th>\n",
       "      <th>level8Id</th>\n",
       "      <th>accuracy</th>\n",
       "      <th>latitude</th>\n",
       "      <th>longitude</th>\n",
       "      <th>zipCode</th>\n",
       "      <th>customZone</th>\n",
       "    </tr>\n",
       "  </thead>\n",
       "  <tbody>\n",
       "    <tr>\n",
       "      <th>0</th>\n",
       "      <td>1</td>\n",
       "      <td>153771986</td>\n",
       "      <td>False</td>\n",
       "      <td>ferrari 57 inmobiliaria</td>\n",
       "      <td>912177526.0</td>\n",
       "      <td>https://www.fotocasa.es/es/comprar/vivienda/ma...</td>\n",
       "      <td>3.0</td>\n",
       "      <td>2.0</td>\n",
       "      <td>103.0</td>\n",
       "      <td>195000</td>\n",
       "      <td>...</td>\n",
       "      <td>0</td>\n",
       "      <td>0</td>\n",
       "      <td>0</td>\n",
       "      <td>0</td>\n",
       "      <td>0</td>\n",
       "      <td>0</td>\n",
       "      <td>40,2948276786438</td>\n",
       "      <td>-3,44402412135624</td>\n",
       "      <td>NaN</td>\n",
       "      <td>NaN</td>\n",
       "    </tr>\n",
       "    <tr>\n",
       "      <th>1</th>\n",
       "      <td>2</td>\n",
       "      <td>153867863</td>\n",
       "      <td>False</td>\n",
       "      <td>tecnocasa fuenlabrada ferrocarril</td>\n",
       "      <td>916358736.0</td>\n",
       "      <td>https://www.fotocasa.es/es/comprar/vivienda/ma...</td>\n",
       "      <td>3.0</td>\n",
       "      <td>1.0</td>\n",
       "      <td>NaN</td>\n",
       "      <td>89000</td>\n",
       "      <td>...</td>\n",
       "      <td>0</td>\n",
       "      <td>0</td>\n",
       "      <td>0</td>\n",
       "      <td>0</td>\n",
       "      <td>0</td>\n",
       "      <td>1</td>\n",
       "      <td>40,28674</td>\n",
       "      <td>-3,79351</td>\n",
       "      <td>NaN</td>\n",
       "      <td>NaN</td>\n",
       "    </tr>\n",
       "    <tr>\n",
       "      <th>2</th>\n",
       "      <td>3</td>\n",
       "      <td>153430440</td>\n",
       "      <td>False</td>\n",
       "      <td>look find boadilla</td>\n",
       "      <td>916350408.0</td>\n",
       "      <td>https://www.fotocasa.es/es/comprar/vivienda/ma...</td>\n",
       "      <td>2.0</td>\n",
       "      <td>2.0</td>\n",
       "      <td>99.0</td>\n",
       "      <td>390000</td>\n",
       "      <td>...</td>\n",
       "      <td>0</td>\n",
       "      <td>0</td>\n",
       "      <td>0</td>\n",
       "      <td>0</td>\n",
       "      <td>0</td>\n",
       "      <td>0</td>\n",
       "      <td>40,4115646786438</td>\n",
       "      <td>-3,90662252135624</td>\n",
       "      <td>NaN</td>\n",
       "      <td>NaN</td>\n",
       "    </tr>\n",
       "    <tr>\n",
       "      <th>3</th>\n",
       "      <td>4</td>\n",
       "      <td>152776331</td>\n",
       "      <td>False</td>\n",
       "      <td>tecnocasa fuenlabrada ferrocarril</td>\n",
       "      <td>916358736.0</td>\n",
       "      <td>https://www.fotocasa.es/es/comprar/vivienda/ma...</td>\n",
       "      <td>3.0</td>\n",
       "      <td>1.0</td>\n",
       "      <td>86.0</td>\n",
       "      <td>89000</td>\n",
       "      <td>...</td>\n",
       "      <td>0</td>\n",
       "      <td>0</td>\n",
       "      <td>0</td>\n",
       "      <td>0</td>\n",
       "      <td>0</td>\n",
       "      <td>0</td>\n",
       "      <td>40,2853785786438</td>\n",
       "      <td>-3,79508142135624</td>\n",
       "      <td>NaN</td>\n",
       "      <td>NaN</td>\n",
       "    </tr>\n",
       "    <tr>\n",
       "      <th>4</th>\n",
       "      <td>5</td>\n",
       "      <td>153180188</td>\n",
       "      <td>False</td>\n",
       "      <td>ferrari 57 inmobiliaria</td>\n",
       "      <td>912177526.0</td>\n",
       "      <td>https://www.fotocasa.es/es/comprar/vivienda/ma...</td>\n",
       "      <td>2.0</td>\n",
       "      <td>2.0</td>\n",
       "      <td>106.0</td>\n",
       "      <td>172000</td>\n",
       "      <td>...</td>\n",
       "      <td>0</td>\n",
       "      <td>0</td>\n",
       "      <td>0</td>\n",
       "      <td>0</td>\n",
       "      <td>0</td>\n",
       "      <td>0</td>\n",
       "      <td>40,2998774864376</td>\n",
       "      <td>-3,45226301356237</td>\n",
       "      <td>NaN</td>\n",
       "      <td>NaN</td>\n",
       "    </tr>\n",
       "    <tr>\n",
       "      <th>...</th>\n",
       "      <td>...</td>\n",
       "      <td>...</td>\n",
       "      <td>...</td>\n",
       "      <td>...</td>\n",
       "      <td>...</td>\n",
       "      <td>...</td>\n",
       "      <td>...</td>\n",
       "      <td>...</td>\n",
       "      <td>...</td>\n",
       "      <td>...</td>\n",
       "      <td>...</td>\n",
       "      <td>...</td>\n",
       "      <td>...</td>\n",
       "      <td>...</td>\n",
       "      <td>...</td>\n",
       "      <td>...</td>\n",
       "      <td>...</td>\n",
       "      <td>...</td>\n",
       "      <td>...</td>\n",
       "      <td>...</td>\n",
       "      <td>...</td>\n",
       "    </tr>\n",
       "    <tr>\n",
       "      <th>15330</th>\n",
       "      <td>15331</td>\n",
       "      <td>153901377</td>\n",
       "      <td>False</td>\n",
       "      <td>infocasa consulting</td>\n",
       "      <td>911360461.0</td>\n",
       "      <td>https://www.fotocasa.es/es/comprar/vivienda/ma...</td>\n",
       "      <td>2.0</td>\n",
       "      <td>1.0</td>\n",
       "      <td>96.0</td>\n",
       "      <td>259470</td>\n",
       "      <td>...</td>\n",
       "      <td>0</td>\n",
       "      <td>0</td>\n",
       "      <td>0</td>\n",
       "      <td>0</td>\n",
       "      <td>0</td>\n",
       "      <td>0</td>\n",
       "      <td>40,45416</td>\n",
       "      <td>-3,70286</td>\n",
       "      <td>NaN</td>\n",
       "      <td>NaN</td>\n",
       "    </tr>\n",
       "    <tr>\n",
       "      <th>15331</th>\n",
       "      <td>15332</td>\n",
       "      <td>150394373</td>\n",
       "      <td>False</td>\n",
       "      <td>inmobiliaria pulpon</td>\n",
       "      <td>912788039.0</td>\n",
       "      <td>https://www.fotocasa.es/es/comprar/vivienda/ma...</td>\n",
       "      <td>3.0</td>\n",
       "      <td>1.0</td>\n",
       "      <td>150.0</td>\n",
       "      <td>165000</td>\n",
       "      <td>...</td>\n",
       "      <td>0</td>\n",
       "      <td>0</td>\n",
       "      <td>0</td>\n",
       "      <td>0</td>\n",
       "      <td>0</td>\n",
       "      <td>0</td>\n",
       "      <td>40,36652</td>\n",
       "      <td>-3,48951</td>\n",
       "      <td>NaN</td>\n",
       "      <td>NaN</td>\n",
       "    </tr>\n",
       "    <tr>\n",
       "      <th>15332</th>\n",
       "      <td>15333</td>\n",
       "      <td>153901397</td>\n",
       "      <td>False</td>\n",
       "      <td>tecnocasa torrelodones</td>\n",
       "      <td>912780348.0</td>\n",
       "      <td>https://www.fotocasa.es/es/comprar/vivienda/ma...</td>\n",
       "      <td>4.0</td>\n",
       "      <td>2.0</td>\n",
       "      <td>175.0</td>\n",
       "      <td>495000</td>\n",
       "      <td>...</td>\n",
       "      <td>0</td>\n",
       "      <td>0</td>\n",
       "      <td>0</td>\n",
       "      <td>0</td>\n",
       "      <td>0</td>\n",
       "      <td>0</td>\n",
       "      <td>40,57444</td>\n",
       "      <td>-3,92124</td>\n",
       "      <td>NaN</td>\n",
       "      <td>NaN</td>\n",
       "    </tr>\n",
       "    <tr>\n",
       "      <th>15333</th>\n",
       "      <td>15334</td>\n",
       "      <td>152607440</td>\n",
       "      <td>False</td>\n",
       "      <td>inmobiliaria pulpon</td>\n",
       "      <td>912788039.0</td>\n",
       "      <td>https://www.fotocasa.es/es/comprar/vivienda/ma...</td>\n",
       "      <td>3.0</td>\n",
       "      <td>2.0</td>\n",
       "      <td>101.0</td>\n",
       "      <td>195000</td>\n",
       "      <td>...</td>\n",
       "      <td>0</td>\n",
       "      <td>0</td>\n",
       "      <td>0</td>\n",
       "      <td>0</td>\n",
       "      <td>0</td>\n",
       "      <td>0</td>\n",
       "      <td>40,36967</td>\n",
       "      <td>-3,48105</td>\n",
       "      <td>NaN</td>\n",
       "      <td>NaN</td>\n",
       "    </tr>\n",
       "    <tr>\n",
       "      <th>15334</th>\n",
       "      <td>15335</td>\n",
       "      <td>153901356</td>\n",
       "      <td>False</td>\n",
       "      <td>infocasa consulting</td>\n",
       "      <td>911360461.0</td>\n",
       "      <td>https://www.fotocasa.es/es/comprar/vivienda/ma...</td>\n",
       "      <td>3.0</td>\n",
       "      <td>2.0</td>\n",
       "      <td>152.0</td>\n",
       "      <td>765000</td>\n",
       "      <td>...</td>\n",
       "      <td>0</td>\n",
       "      <td>0</td>\n",
       "      <td>0</td>\n",
       "      <td>0</td>\n",
       "      <td>0</td>\n",
       "      <td>0</td>\n",
       "      <td>40,45773</td>\n",
       "      <td>-3,69068</td>\n",
       "      <td>NaN</td>\n",
       "      <td>NaN</td>\n",
       "    </tr>\n",
       "  </tbody>\n",
       "</table>\n",
       "<p>15335 rows × 37 columns</p>\n",
       "</div>"
      ]
     },
     "execution_count": 2,
     "metadata": {},
     "output_type": "execute_result"
    }
   ],
   "execution_count": 2
  },
  {
   "cell_type": "markdown",
   "id": "9670bfd13cfca1e7",
   "metadata": {},
   "source": [
    "## Trabajando con un DataFrame"
   ]
  },
  {
   "attachments": {},
   "cell_type": "markdown",
   "id": "latin-guest",
   "metadata": {},
   "source": [
    "#### Ejercicio 01\n",
    "\n",
    "¿Cuál es la casa más cara del dataset? (★☆☆)\n",
    "\n",
    "Imprime la dirección y el precio de la casa seleccionada. Para visualizar el resultado utiliza un f-string. Por ejemplo:\n",
    "\n",
    "```py\n",
    "f'La casa más cara se encuentra en la dirección: {address} y su precio es {price} €'\n",
    "```"
   ]
  },
  {
   "cell_type": "code",
   "id": "developing-optimum",
   "metadata": {
    "ExecuteTime": {
     "end_time": "2025-10-14T21:31:49.315067Z",
     "start_time": "2025-10-14T21:31:49.308512Z"
    }
   },
   "source": [
    "max_price = df['price'].max()\n",
    "\n",
    "casa_mas_cara = df[df['price'] == max_price]\n",
    "\n",
    "address = casa_mas_cara.iloc[0]['address']\n",
    "price = casa_mas_cara.iloc[0]['price']\n",
    "\n",
    "f'La casa más cara está en la dirección: {address} y su precio es {price} €'"
   ],
   "outputs": [
    {
     "data": {
      "text/plain": [
       "'La casa más cara está en la dirección: El Escorial y su precio es 8500000 €'"
      ]
     },
     "execution_count": 3,
     "metadata": {},
     "output_type": "execute_result"
    }
   ],
   "execution_count": 3
  },
  {
   "attachments": {},
   "cell_type": "markdown",
   "id": "lesser-cosmetic",
   "metadata": {},
   "source": [
    "#### Ejercicio 02\n",
    "\n",
    "¿Cuál es la casa más barata del dataset? (★☆☆)\n",
    "\n",
    "Imprime la dirección y el precio de la casa seleccionada utilizando f-string"
   ]
  },
  {
   "cell_type": "code",
   "id": "lovely-oasis",
   "metadata": {
    "ExecuteTime": {
     "end_time": "2025-10-12T19:19:36.910704Z",
     "start_time": "2025-10-12T19:19:36.904769Z"
    }
   },
   "source": [
    "min_price = df['price'].min()\n",
    "\n",
    "casa_mas_barata = df[df['price'] == min_price]\n",
    "\n",
    "address = casa_mas_barata.iloc[0]['address']\n",
    "price = casa_mas_barata.iloc[0]['price']\n",
    "\n",
    "f'La casa más barata está en la dirección: {address} y su precio es {price} €'"
   ],
   "outputs": [
    {
     "name": "stdout",
     "output_type": "stream",
     "text": [
      "La casa más barata está en la dirección: Parla y su precio es 0 €\n"
     ]
    }
   ],
   "execution_count": 8
  },
  {
   "metadata": {},
   "cell_type": "markdown",
   "source": "Como comentario, veo en el dataset que hay varias casas que el precio es 0 €. Agregué solo una con iloc porque vi que es lo que solicitaba el ejercicio",
   "id": "52ab8cc42eabd5c4"
  },
  {
   "attachments": {},
   "cell_type": "markdown",
   "id": "compliant-fellowship",
   "metadata": {},
   "source": [
    "#### Ejercicio 03\n",
    "\n",
    "¿Cuál es la casa más grande del dataset? (★☆☆)\n",
    "\n",
    "Imprime la dirección y el área de las casas seleccionadas utilizando f-string"
   ]
  },
  {
   "cell_type": "code",
   "id": "f73938ad",
   "metadata": {
    "ExecuteTime": {
     "end_time": "2025-10-12T19:28:53.314598Z",
     "start_time": "2025-10-12T19:28:53.307136Z"
    }
   },
   "source": [
    "max_surface = df['surface'].max()\n",
    "\n",
    "casa_mas_grande = df[df['surface'] == max_surface]\n",
    "\n",
    "address = casa_mas_grande.iloc[0]['address']\n",
    "surface = casa_mas_grande.iloc[0]['surface']\n",
    "\n",
    "f'La casa más grande está en la dirección: {address} y su area es {surface}'"
   ],
   "outputs": [
    {
     "name": "stdout",
     "output_type": "stream",
     "text": [
      "La casa más grande está en la dirección: Sevilla la Nueva y su area es 249000.0\n"
     ]
    }
   ],
   "execution_count": 11
  },
  {
   "cell_type": "markdown",
   "id": "89afefb0b0eb970e",
   "metadata": {},
   "source": [
    "#### Ejercicio 04\n",
    "\n",
    "¿Cuál es la casa más pequeña del dataset? (★☆☆)"
   ]
  },
  {
   "cell_type": "code",
   "id": "every-tiffany",
   "metadata": {
    "ExecuteTime": {
     "end_time": "2025-10-12T19:29:05.768729Z",
     "start_time": "2025-10-12T19:29:05.761144Z"
    }
   },
   "source": [
    "min_surface = df['surface'].min()\n",
    "\n",
    "casa_mas_chica = df[df['surface'] == min_surface]\n",
    "\n",
    "address = casa_mas_chica.iloc[0]['address']\n",
    "surface = casa_mas_chica.iloc[0]['surface']\n",
    "\n",
    "f'La casa más chica está en la dirección: {address} y su area es {surface}'"
   ],
   "outputs": [
    {
     "name": "stdout",
     "output_type": "stream",
     "text": [
      "La casa más chica está en la dirección: Calle Amparo,  Madrid Capital y su area es 15.0\n"
     ]
    }
   ],
   "execution_count": 12
  },
  {
   "attachments": {},
   "cell_type": "markdown",
   "id": "crazy-blame",
   "metadata": {},
   "source": [
    "#### Ejercicio 05.\n",
    "\n",
    "¿El dataset contiene valores no admitidos (NAs)? (★☆☆)\n",
    "\n",
    "- Muestra el nombre de las filas seguidas por un booleano (`True` o `False`) según contengan o no contengan NAs.\n",
    "- También muestra el nombre de las columnas seguidas por un booleano (`True` o `False`) según contengan o no contengan NAs."
   ]
  },
  {
   "cell_type": "code",
   "id": "transparent-poetry",
   "metadata": {
    "ExecuteTime": {
     "end_time": "2025-10-14T21:35:05.618357Z",
     "start_time": "2025-10-14T21:35:05.603656Z"
    }
   },
   "source": [
    "f\"¿La fila tiene un valor NA?\"\n",
    "df.isna().any(axis=1)"
   ],
   "outputs": [
    {
     "data": {
      "text/plain": [
       "0        True\n",
       "1        True\n",
       "2        True\n",
       "3        True\n",
       "4        True\n",
       "         ... \n",
       "15330    True\n",
       "15331    True\n",
       "15332    True\n",
       "15333    True\n",
       "15334    True\n",
       "Length: 15335, dtype: bool"
      ]
     },
     "execution_count": 8,
     "metadata": {},
     "output_type": "execute_result"
    }
   ],
   "execution_count": 8
  },
  {
   "metadata": {
    "ExecuteTime": {
     "end_time": "2025-10-14T21:36:48.223013Z",
     "start_time": "2025-10-14T21:36:48.208320Z"
    }
   },
   "cell_type": "code",
   "source": [
    "# 3️⃣ Ver si hay valores nulos (NAs) en cada columna\n",
    "f\"¿Hay valores NA en las columnas?\"\n",
    "df.isna().any()"
   ],
   "id": "384f88a13c35c679",
   "outputs": [
    {
     "data": {
      "text/plain": [
       "Unnamed: 0          False\n",
       "id_realEstates      False\n",
       "isNew               False\n",
       "realEstate_name      True\n",
       "phone_realEstate     True\n",
       "url_inmueble        False\n",
       "rooms                True\n",
       "bathrooms            True\n",
       "surface              True\n",
       "price               False\n",
       "date                False\n",
       "description          True\n",
       "address             False\n",
       "country             False\n",
       "level1              False\n",
       "level2              False\n",
       "level3              False\n",
       "level4               True\n",
       "level5              False\n",
       "level6               True\n",
       "level7               True\n",
       "level8               True\n",
       "upperLevel          False\n",
       "countryId           False\n",
       "level1Id            False\n",
       "level2Id            False\n",
       "level3Id            False\n",
       "level4Id            False\n",
       "level5Id            False\n",
       "level6Id            False\n",
       "level7Id            False\n",
       "level8Id            False\n",
       "accuracy            False\n",
       "latitude            False\n",
       "longitude           False\n",
       "zipCode              True\n",
       "customZone           True\n",
       "dtype: bool"
      ]
     },
     "execution_count": 12,
     "metadata": {},
     "output_type": "execute_result"
    }
   ],
   "execution_count": 12
  },
  {
   "metadata": {},
   "cell_type": "markdown",
   "source": "Todas las filas tienen por lo menos un valor NA",
   "id": "fa64633a9eed1700"
  },
  {
   "attachments": {},
   "cell_type": "markdown",
   "id": "italic-hydrogen",
   "metadata": {},
   "source": [
    "#### Ejercicio 06.\n",
    "\n",
    "Elimina los NAs del dataset, si aplica (★★☆)\n",
    "\n",
    "Muestra las dimensiones del DataFrame original y del DataFrame después de las eliminaciones."
   ]
  },
  {
   "cell_type": "code",
   "id": "administrative-roads",
   "metadata": {
    "ExecuteTime": {
     "end_time": "2025-10-14T21:36:18.681580Z",
     "start_time": "2025-10-14T21:36:18.677274Z"
    }
   },
   "source": "f\"Dimensiones originales: {df.shape}\"",
   "outputs": [
    {
     "data": {
      "text/plain": [
       "'Dimensiones originales: (15335, 37)'"
      ]
     },
     "execution_count": 10,
     "metadata": {},
     "output_type": "execute_result"
    }
   ],
   "execution_count": 10
  },
  {
   "metadata": {
    "ExecuteTime": {
     "end_time": "2025-10-14T21:36:25.599492Z",
     "start_time": "2025-10-14T21:36:25.588476Z"
    }
   },
   "cell_type": "code",
   "source": [
    "df_sin_columnas = df.drop(['zipCode', 'customZone'], axis=1)\n",
    "\n",
    "f\"Dimensiones después de eliminar zipCode y customZone: {df_sin_columnas.shape}\""
   ],
   "id": "637e1acbf94b3df1",
   "outputs": [
    {
     "data": {
      "text/plain": [
       "'Dimensiones después de eliminar zipCode y customZone: (15335, 35)'"
      ]
     },
     "execution_count": 11,
     "metadata": {},
     "output_type": "execute_result"
    }
   ],
   "execution_count": 11
  },
  {
   "metadata": {},
   "cell_type": "markdown",
   "source": "Dejo el codigo planteado. Para mi no tiene sentido eliminar todos los NA del dataset (por filas con valor NA) porque nos quedariamos sin datos. Y tampoco eliminar las columnas con NA porque eliminariamos columnas que para cierta fila si tienen información. Por lo que veo las columnas zipCode y customZone son las que tienen el 100% de sus datos NA así que son las que eliminaria para mejorar el DataFrame",
   "id": "f4bf68ce68230e54"
  },
  {
   "cell_type": "markdown",
   "id": "c00ce93f7105532e",
   "metadata": {},
   "source": [
    "#### Ejercicio 07\n",
    "\n",
    "¿Cuantas poblaciones (columna level5) contiene el dataset? (★☆☆)\n",
    "\n",
    "- Muestra una lista con los nombres de las poblaciones\n",
    "- Muestra el total de las mismas"
   ]
  },
  {
   "cell_type": "code",
   "id": "dd8aec62c12bd8db",
   "metadata": {
    "ExecuteTime": {
     "end_time": "2025-10-14T21:39:15.024072Z",
     "start_time": "2025-10-14T21:39:15.019140Z"
    }
   },
   "source": [
    "poblaciones = df['level5'].unique()\n",
    "\n",
    "len(poblaciones), poblaciones"
   ],
   "outputs": [
    {
     "data": {
      "text/plain": [
       "(168,\n",
       " array(['Arganda del Rey', 'Fuenlabrada', 'Boadilla del Monte',\n",
       "        'Las Rozas de Madrid', ' Madrid Capital', 'Villaviciosa de Odón',\n",
       "        'Pinto', 'Valdemoro', 'Navalcarnero', 'Pozuelo de Alarcón',\n",
       "        'Torrejón de Ardoz', 'Navalagamella', 'San Sebastián de los Reyes',\n",
       "        'Rivas-vaciamadrid', 'Alpedrete', 'Móstoles',\n",
       "        'San Fernando de Henares', 'Coslada', 'Becerril de la Sierra',\n",
       "        'Alcalá de Henares', 'Chinchón', 'Parla', 'Alcorcón',\n",
       "        'El Escorial', 'Leganés', 'Pedrezuela', 'Majadahonda',\n",
       "        'Villanueva de la Cañada', 'Villanueva del Pardillo',\n",
       "        'Torrelodones', 'Moralzarzal', 'Mejorada del Campo', 'Aranjuez',\n",
       "        'Corpa', 'Getafe', 'Velilla de San Antonio', 'Sevilla la Nueva',\n",
       "        'San Martín de la Vega', 'Villalbilla', 'Collado Villalba',\n",
       "        'Alcobendas', 'El Molar (Madrid)', 'Moraleja de Enmedio', 'Algete',\n",
       "        'Campo Real', 'Torrejón de la Calzada', 'Colmenar Viejo',\n",
       "        'Valdemorillo', 'Fuente El Saz de Jarama', 'Tres Cantos',\n",
       "        'Arroyomolinos (Madrid)', 'Griñón', 'Paracuellos de Jarama',\n",
       "        'Guadarrama', 'Titulcia', 'Galapagar', 'Collado Mediano',\n",
       "        'Los Molinos', 'San Lorenzo de El Escorial', 'Loeches',\n",
       "        'San Martín de Valdeiglesias', 'Navas del Rey', 'Bustarviejo',\n",
       "        'Manzanares El Real', 'Carabaña', 'Casarrubuelos', 'Cercedilla',\n",
       "        'Fresnedillas de la Oliva', 'Valdemaqueda', 'Robledo de Chavela',\n",
       "        'Miraflores de la Sierra', 'Humanes de Madrid',\n",
       "        'Valdetorres de Jarama', 'San Agustín del Guadalix',\n",
       "        'Ciempozuelos', 'Camarma de Esteruelas', 'Torres de la Alameda',\n",
       "        'Talamanca de Jarama', 'El Atazar', 'Hoyo de Manzanares',\n",
       "        'El Boalo - Cerceda – Mataelpino', 'El Álamo', 'Valdilecha',\n",
       "        'Valdeolmos-Alalpardo', 'Guadalix de la Sierra',\n",
       "        'Belmonte de Tajo', 'El Vellón', 'Brunete', 'Redueña',\n",
       "        'Morata de Tajuña', 'Tielmes', 'Gargantilla del Lozoya', 'Meco',\n",
       "        'Venturada', 'Quijorna', 'Cenicientos', 'Torrejón de Velasco',\n",
       "        'Navacerrada', 'Santa María de la Alameda', 'Orusco de Tajuña',\n",
       "        'Daganzo de Arriba', 'Villamanta', 'Anchuelo', 'Valdaracete',\n",
       "        'Ajalvir', 'Los Santos de la Humosa', 'Villamanrique de Tajo',\n",
       "        'Colmenar de Oreja', 'Villa del Prado', 'Fuentidueña de Tajo',\n",
       "        'Colmenar del Arroyo', 'Valdelaguna', 'Cubas de la Sagra',\n",
       "        'Valdeavero', 'Aldea del Fresno', 'Ribatejada', 'Torrelaguna',\n",
       "        'Batres', 'Pezuela de las Torres', 'Colmenarejo',\n",
       "        'Serranillos del Valle', 'Cobeña', 'Soto del Real', 'El Berrueco',\n",
       "        'Villanueva de Perales', 'Fresno de Torote - Serracines',\n",
       "        'Pozuelo del Rey', 'Pelayos de la Presa', 'La Cabrera',\n",
       "        'Nuevo Baztán', 'Perales de Tajuña', 'Villaconejos',\n",
       "        'Villarejo de Salvanés', 'Cadalso de los Vidrios', 'Santorcaz',\n",
       "        'Madarcos', 'Garganta de los Montes', 'Puentes Viejas',\n",
       "        'Torremocha de Jarama', 'Valdemanco', 'Braojos',\n",
       "        'Lozoyuela-navas-sieteiglesias', 'Piñuécar-gandullas',\n",
       "        'Valdepiélagos', 'Valverde de Alcalá', 'Villar del Olmo',\n",
       "        'Villamantilla', 'Horcajo de la Sierra', 'Gascones', 'Zarzalejo',\n",
       "        'Villavieja del Lozoya', 'Brea de Tajo', 'Estremera', 'Chapinería',\n",
       "        'Navarredonda', 'Patones', 'Ambite', 'Navalafuente', 'Lozoya',\n",
       "        'Canencia', 'Cabanillas de la Sierra', 'Buitrago del Lozoya',\n",
       "        'Fresno de Torote', 'Robregordo', 'Pinilla del Valle', 'Rascafría',\n",
       "        'La Hiruela', 'Montejo de la Sierra'], dtype=object))"
      ]
     },
     "execution_count": 15,
     "metadata": {},
     "output_type": "execute_result"
    }
   ],
   "execution_count": 15
  },
  {
   "metadata": {},
   "cell_type": "markdown",
   "source": "Conclusiones: Tenemos 168 poblaciones que están listadas en la tupla encima de este markdown.",
   "id": "5d400b3158d8015f"
  },
  {
   "cell_type": "markdown",
   "id": "ffe874b946959731",
   "metadata": {},
   "source": [
    "#### Ejercicio 08\n",
    "\n",
    "¿Cuál es la media de precios en la población (columna level5) de \"Arroyomolinos (Madrid)\"? (★★☆)"
   ]
  },
  {
   "cell_type": "code",
   "id": "1454ad464d3f1dfe",
   "metadata": {
    "ExecuteTime": {
     "end_time": "2025-10-14T21:41:04.458979Z",
     "start_time": "2025-10-14T21:41:04.453046Z"
    }
   },
   "source": [
    "filtro = df[df['level5'] == 'Arroyomolinos (Madrid)']\n",
    "\n",
    "media_precios = filtro['price'].mean()\n",
    "\n",
    "f'La media de precios en Arroyomolinos (Madrid) es de {media_precios:.2f} €'"
   ],
   "outputs": [
    {
     "data": {
      "text/plain": [
       "'La media de precios en Arroyomolinos (Madrid) es de 294541.60 €'"
      ]
     },
     "execution_count": 16,
     "metadata": {},
     "output_type": "execute_result"
    }
   ],
   "execution_count": 16
  },
  {
   "attachments": {},
   "cell_type": "markdown",
   "id": "actual-edinburgh",
   "metadata": {},
   "source": [
    "#### Ejercicio 09.\n",
    "\n",
    "¿Los precios promedios de \"Valdemorillo\" y \"Galapagar\" son iguales? (★★☆)\n",
    "\n",
    "- Muestra ambos promedios\n",
    "- Escribe en una celda markdown una conclusión sobre ellos"
   ]
  },
  {
   "cell_type": "code",
   "id": "numeric-commerce",
   "metadata": {
    "ExecuteTime": {
     "end_time": "2025-10-14T21:43:15.258147Z",
     "start_time": "2025-10-14T21:43:15.250744Z"
    }
   },
   "source": [
    "valdemorillo_prices = df[df['level5'] == 'Valdemorillo']['price']\n",
    "\n",
    "#Calculo el promedio\n",
    "promedio_valdemorillo = valdemorillo_prices.mean()\n",
    "f\"Promedio Valdemorillo: {promedio_valdemorillo}\"\n"
   ],
   "outputs": [
    {
     "data": {
      "text/plain": [
       "'Promedio Valdemorillo: 363860.2931034483'"
      ]
     },
     "execution_count": 21,
     "metadata": {},
     "output_type": "execute_result"
    }
   ],
   "execution_count": 21
  },
  {
   "metadata": {
    "ExecuteTime": {
     "end_time": "2025-10-14T21:43:27.406184Z",
     "start_time": "2025-10-14T21:43:27.399755Z"
    }
   },
   "cell_type": "code",
   "source": [
    "galapagar_prices = df[df['level5'] == 'Galapagar']['price']\n",
    "promedio_galapagar = galapagar_prices.mean()\n",
    "f\"Promedio Galapagar: {promedio_galapagar}\","
   ],
   "id": "10d5e97c616bfd81",
   "outputs": [
    {
     "data": {
      "text/plain": [
       "('Promedio Galapagar: 360063.20238095237',)"
      ]
     },
     "execution_count": 22,
     "metadata": {},
     "output_type": "execute_result"
    }
   ],
   "execution_count": 22
  },
  {
   "attachments": {},
   "cell_type": "markdown",
   "id": "lonely-article",
   "metadata": {},
   "source": [
    "#### Ejercicio 10\n",
    "\n",
    "¿Los promedios de precio por metro cuadrado (precio/m2) de \"Valdemorillo\" y \"Galapagar\" son iguales? (★★☆)\n",
    "\n",
    "> Pista: Crea una nueva columna llamada `pps` (*price per square* o precio por metro cuadrado) y luego analiza los valores.\n",
    "\n",
    "- Muestra ambos promedios de precio por metro cuadrado\n",
    "- Escribe en una celda markdown una conclusión sobre ellos"
   ]
  },
  {
   "cell_type": "code",
   "id": "common-drilling",
   "metadata": {
    "ExecuteTime": {
     "end_time": "2025-10-14T21:44:51.179501Z",
     "start_time": "2025-10-14T21:44:51.172794Z"
    }
   },
   "source": [
    "df['pps'] = df['price'] / df['surface']\n",
    "\n",
    "valdemorillo_pps = df[df['level5'] == 'Valdemorillo']['pps']\n",
    "promedio_valdemorillo_pps = valdemorillo_pps.mean()\n",
    "f\"Promedio pps Valdemorillo: {promedio_valdemorillo_pps}\""
   ],
   "outputs": [
    {
     "data": {
      "text/plain": [
       "'Promedio pps Valdemorillo: 1317.9502109024986'"
      ]
     },
     "execution_count": 25,
     "metadata": {},
     "output_type": "execute_result"
    }
   ],
   "execution_count": 25
  },
  {
   "metadata": {
    "ExecuteTime": {
     "end_time": "2025-10-14T21:44:52.660207Z",
     "start_time": "2025-10-14T21:44:52.654116Z"
    }
   },
   "cell_type": "code",
   "source": [
    "df['pps'] = df['price'] / df['surface']\n",
    "\n",
    "galapagar_pps = df[df['level5'] == 'Galapagar']['pps']\n",
    "promedio_galapagar_pps = galapagar_pps.mean()\n",
    "f\"Promedio pps Galapagar: {promedio_galapagar_pps}\""
   ],
   "id": "819f5c311ce13471",
   "outputs": [
    {
     "data": {
      "text/plain": [
       "'Promedio pps Galapagar: 1606.3240303094024'"
      ]
     },
     "execution_count": 26,
     "metadata": {},
     "output_type": "execute_result"
    }
   ],
   "execution_count": 26
  },
  {
   "attachments": {},
   "cell_type": "markdown",
   "id": "coordinate-sunrise",
   "metadata": {},
   "source": [
    "#### Ejercicio 11\n",
    "\n",
    "¿Cuántas agencia de bienes raíces contiene el dataset? (★★☆)\n",
    "\n",
    "- Muestra el valor obtenido."
   ]
  },
  {
   "cell_type": "code",
   "id": "valid-honolulu",
   "metadata": {
    "ExecuteTime": {
     "end_time": "2025-10-14T21:45:13.404775Z",
     "start_time": "2025-10-14T21:45:13.399286Z"
    }
   },
   "source": [
    "num_agencias = df['realEstate_name'].nunique()\n",
    "\n",
    "f\"Número de agencias de bienes raíces: {num_agencias}\""
   ],
   "outputs": [
    {
     "data": {
      "text/plain": [
       "'Número de agencias de bienes raíces: 1821'"
      ]
     },
     "execution_count": 27,
     "metadata": {},
     "output_type": "execute_result"
    }
   ],
   "execution_count": 27
  },
  {
   "attachments": {},
   "cell_type": "markdown",
   "id": "binding-ebony",
   "metadata": {},
   "source": [
    "#### Ejercicio 12\n",
    "\n",
    "¿Cuál es la población (columna level5) que contiene la mayor cantidad de casas?(★★☆)\n",
    "\n",
    "- Muestra la población y el número de casas."
   ]
  },
  {
   "cell_type": "code",
   "id": "static-perry",
   "metadata": {
    "ExecuteTime": {
     "end_time": "2025-10-14T21:46:24.710383Z",
     "start_time": "2025-10-14T21:46:24.702494Z"
    }
   },
   "source": [
    "casas_por_poblacion = df['level5'].value_counts()\n",
    "num_casas_max = casas_por_poblacion.max()\n",
    "f\"Número de casas: {num_casas_max}\"\n"
   ],
   "outputs": [
    {
     "data": {
      "text/plain": [
       "'Número de casas: 6643'"
      ]
     },
     "execution_count": 29,
     "metadata": {},
     "output_type": "execute_result"
    }
   ],
   "execution_count": 29
  },
  {
   "metadata": {
    "ExecuteTime": {
     "end_time": "2025-10-14T21:46:26.186693Z",
     "start_time": "2025-10-14T21:46:26.179283Z"
    }
   },
   "cell_type": "code",
   "source": [
    "poblacion_max = casas_por_poblacion.idxmax()\n",
    "f\"Población con más casas: {poblacion_max}\""
   ],
   "id": "5b8126976fc7abff",
   "outputs": [
    {
     "data": {
      "text/plain": [
       "'Población con más casas:  Madrid Capital'"
      ]
     },
     "execution_count": 30,
     "metadata": {},
     "output_type": "execute_result"
    }
   ],
   "execution_count": 30
  },
  {
   "cell_type": "markdown",
   "id": "f6891b36e4d016c4",
   "metadata": {},
   "source": [
    "---\n",
    "\n",
    "## Trabajando con un subconjunto del DataFrame"
   ]
  },
  {
   "attachments": {},
   "cell_type": "markdown",
   "id": "entire-classification",
   "metadata": {},
   "source": [
    "#### Ejercicio 13\n",
    "\n",
    "Ahora vamos a trabajar con el \"cinturón sur\" de Madrid.\n",
    "\n",
    "Haz un subconjunto del DataFrame original que contenga las siguientes poblaciones (columna level5): \"Fuenlabrada\", \"Leganés\", \"Getafe\", \"Alcorcón\" (★★☆)\n",
    "\n",
    "> Pista: Filtra el DataFrame original usando la columna `level5` y la función `isin`."
   ]
  },
  {
   "cell_type": "code",
   "id": "binary-input",
   "metadata": {
    "ExecuteTime": {
     "end_time": "2025-10-14T21:46:44.171379Z",
     "start_time": "2025-10-14T21:46:44.155891Z"
    }
   },
   "source": [
    "cinturon_sur = [\"Fuenlabrada\", \"Leganés\", \"Getafe\", \"Alcorcón\"]\n",
    "\n",
    "df_cinturon_sur = df[df['level5'].isin(cinturon_sur)]\n",
    "df_cinturon_sur.head()"
   ],
   "outputs": [
    {
     "data": {
      "text/plain": [
       "     Unnamed: 0  id_realEstates  isNew                    realEstate_name  \\\n",
       "1             2       153867863  False  tecnocasa fuenlabrada ferrocarril   \n",
       "3             4       152776331  False  tecnocasa fuenlabrada ferrocarril   \n",
       "85           86       153152077  False            sinergical inmobiliaria   \n",
       "94           95       153995577  False                    viviendas365com   \n",
       "109         110       153586414  False    area uno asesores inmobiliarios   \n",
       "\n",
       "     phone_realEstate                                       url_inmueble  \\\n",
       "1         916358736.0  https://www.fotocasa.es/es/comprar/vivienda/ma...   \n",
       "3         916358736.0  https://www.fotocasa.es/es/comprar/vivienda/ma...   \n",
       "85                NaN  https://www.fotocasa.es/es/comprar/vivienda/le...   \n",
       "94        911226014.0  https://www.fotocasa.es/es/comprar/vivienda/le...   \n",
       "109       912664081.0  https://www.fotocasa.es/es/comprar/vivienda/ma...   \n",
       "\n",
       "     rooms  bathrooms  surface   price  ... level5Id level6Id level7Id  \\\n",
       "1      3.0        1.0      NaN   89000  ...        0        0        0   \n",
       "3      3.0        1.0     86.0   89000  ...        0        0        0   \n",
       "85     1.0        1.0     50.0  107000  ...        0        0        0   \n",
       "94     3.0        2.0    120.0  320000  ...        0        0        0   \n",
       "109    3.0        3.0    142.0  425000  ...        0        0        0   \n",
       "\n",
       "    level8Id accuracy          latitude          longitude zipCode customZone  \\\n",
       "1          0        1          40,28674           -3,79351     NaN        NaN   \n",
       "3          0        0  40,2853785786438  -3,79508142135624     NaN        NaN   \n",
       "85         0        1          40,35059           -3,82693     NaN        NaN   \n",
       "94         0        0          40,31933           -3,77574     NaN        NaN   \n",
       "109        0        0        40,3313411         -3,8313868     NaN        NaN   \n",
       "\n",
       "             pps  \n",
       "1            NaN  \n",
       "3    1034.883721  \n",
       "85   2140.000000  \n",
       "94   2666.666667  \n",
       "109  2992.957746  \n",
       "\n",
       "[5 rows x 38 columns]"
      ],
      "text/html": [
       "<div>\n",
       "<style scoped>\n",
       "    .dataframe tbody tr th:only-of-type {\n",
       "        vertical-align: middle;\n",
       "    }\n",
       "\n",
       "    .dataframe tbody tr th {\n",
       "        vertical-align: top;\n",
       "    }\n",
       "\n",
       "    .dataframe thead th {\n",
       "        text-align: right;\n",
       "    }\n",
       "</style>\n",
       "<table border=\"1\" class=\"dataframe\">\n",
       "  <thead>\n",
       "    <tr style=\"text-align: right;\">\n",
       "      <th></th>\n",
       "      <th>Unnamed: 0</th>\n",
       "      <th>id_realEstates</th>\n",
       "      <th>isNew</th>\n",
       "      <th>realEstate_name</th>\n",
       "      <th>phone_realEstate</th>\n",
       "      <th>url_inmueble</th>\n",
       "      <th>rooms</th>\n",
       "      <th>bathrooms</th>\n",
       "      <th>surface</th>\n",
       "      <th>price</th>\n",
       "      <th>...</th>\n",
       "      <th>level5Id</th>\n",
       "      <th>level6Id</th>\n",
       "      <th>level7Id</th>\n",
       "      <th>level8Id</th>\n",
       "      <th>accuracy</th>\n",
       "      <th>latitude</th>\n",
       "      <th>longitude</th>\n",
       "      <th>zipCode</th>\n",
       "      <th>customZone</th>\n",
       "      <th>pps</th>\n",
       "    </tr>\n",
       "  </thead>\n",
       "  <tbody>\n",
       "    <tr>\n",
       "      <th>1</th>\n",
       "      <td>2</td>\n",
       "      <td>153867863</td>\n",
       "      <td>False</td>\n",
       "      <td>tecnocasa fuenlabrada ferrocarril</td>\n",
       "      <td>916358736.0</td>\n",
       "      <td>https://www.fotocasa.es/es/comprar/vivienda/ma...</td>\n",
       "      <td>3.0</td>\n",
       "      <td>1.0</td>\n",
       "      <td>NaN</td>\n",
       "      <td>89000</td>\n",
       "      <td>...</td>\n",
       "      <td>0</td>\n",
       "      <td>0</td>\n",
       "      <td>0</td>\n",
       "      <td>0</td>\n",
       "      <td>1</td>\n",
       "      <td>40,28674</td>\n",
       "      <td>-3,79351</td>\n",
       "      <td>NaN</td>\n",
       "      <td>NaN</td>\n",
       "      <td>NaN</td>\n",
       "    </tr>\n",
       "    <tr>\n",
       "      <th>3</th>\n",
       "      <td>4</td>\n",
       "      <td>152776331</td>\n",
       "      <td>False</td>\n",
       "      <td>tecnocasa fuenlabrada ferrocarril</td>\n",
       "      <td>916358736.0</td>\n",
       "      <td>https://www.fotocasa.es/es/comprar/vivienda/ma...</td>\n",
       "      <td>3.0</td>\n",
       "      <td>1.0</td>\n",
       "      <td>86.0</td>\n",
       "      <td>89000</td>\n",
       "      <td>...</td>\n",
       "      <td>0</td>\n",
       "      <td>0</td>\n",
       "      <td>0</td>\n",
       "      <td>0</td>\n",
       "      <td>0</td>\n",
       "      <td>40,2853785786438</td>\n",
       "      <td>-3,79508142135624</td>\n",
       "      <td>NaN</td>\n",
       "      <td>NaN</td>\n",
       "      <td>1034.883721</td>\n",
       "    </tr>\n",
       "    <tr>\n",
       "      <th>85</th>\n",
       "      <td>86</td>\n",
       "      <td>153152077</td>\n",
       "      <td>False</td>\n",
       "      <td>sinergical inmobiliaria</td>\n",
       "      <td>NaN</td>\n",
       "      <td>https://www.fotocasa.es/es/comprar/vivienda/le...</td>\n",
       "      <td>1.0</td>\n",
       "      <td>1.0</td>\n",
       "      <td>50.0</td>\n",
       "      <td>107000</td>\n",
       "      <td>...</td>\n",
       "      <td>0</td>\n",
       "      <td>0</td>\n",
       "      <td>0</td>\n",
       "      <td>0</td>\n",
       "      <td>1</td>\n",
       "      <td>40,35059</td>\n",
       "      <td>-3,82693</td>\n",
       "      <td>NaN</td>\n",
       "      <td>NaN</td>\n",
       "      <td>2140.000000</td>\n",
       "    </tr>\n",
       "    <tr>\n",
       "      <th>94</th>\n",
       "      <td>95</td>\n",
       "      <td>153995577</td>\n",
       "      <td>False</td>\n",
       "      <td>viviendas365com</td>\n",
       "      <td>911226014.0</td>\n",
       "      <td>https://www.fotocasa.es/es/comprar/vivienda/le...</td>\n",
       "      <td>3.0</td>\n",
       "      <td>2.0</td>\n",
       "      <td>120.0</td>\n",
       "      <td>320000</td>\n",
       "      <td>...</td>\n",
       "      <td>0</td>\n",
       "      <td>0</td>\n",
       "      <td>0</td>\n",
       "      <td>0</td>\n",
       "      <td>0</td>\n",
       "      <td>40,31933</td>\n",
       "      <td>-3,77574</td>\n",
       "      <td>NaN</td>\n",
       "      <td>NaN</td>\n",
       "      <td>2666.666667</td>\n",
       "    </tr>\n",
       "    <tr>\n",
       "      <th>109</th>\n",
       "      <td>110</td>\n",
       "      <td>153586414</td>\n",
       "      <td>False</td>\n",
       "      <td>area uno asesores inmobiliarios</td>\n",
       "      <td>912664081.0</td>\n",
       "      <td>https://www.fotocasa.es/es/comprar/vivienda/ma...</td>\n",
       "      <td>3.0</td>\n",
       "      <td>3.0</td>\n",
       "      <td>142.0</td>\n",
       "      <td>425000</td>\n",
       "      <td>...</td>\n",
       "      <td>0</td>\n",
       "      <td>0</td>\n",
       "      <td>0</td>\n",
       "      <td>0</td>\n",
       "      <td>0</td>\n",
       "      <td>40,3313411</td>\n",
       "      <td>-3,8313868</td>\n",
       "      <td>NaN</td>\n",
       "      <td>NaN</td>\n",
       "      <td>2992.957746</td>\n",
       "    </tr>\n",
       "  </tbody>\n",
       "</table>\n",
       "<p>5 rows × 38 columns</p>\n",
       "</div>"
      ]
     },
     "execution_count": 31,
     "metadata": {},
     "output_type": "execute_result"
    }
   ],
   "execution_count": 31
  },
  {
   "attachments": {},
   "cell_type": "markdown",
   "id": "speaking-diamond",
   "metadata": {},
   "source": [
    "#### Ejercicio 14\n",
    "\n",
    "Calcula la media y la varianza de muestra para las siguientes variables: precio, habitaciones, superficie y baños (★★★)\n",
    "\n",
    "> Debes usar el subset obtenido en la pregunta 13\n",
    "\n",
    "- Crea y visualiza un diccionario con todos los valores"
   ]
  },
  {
   "cell_type": "code",
   "id": "random-feeling",
   "metadata": {
    "ExecuteTime": {
     "end_time": "2025-10-14T21:46:51.210286Z",
     "start_time": "2025-10-14T21:46:51.205002Z"
    }
   },
   "source": [
    "columnas = ['price', 'rooms', 'surface', 'bathrooms']\n",
    "\n",
    "estadisticas = {}\n",
    "\n",
    "for col in columnas:\n",
    "    media = df_cinturon_sur[col].mean()\n",
    "    varianza = df_cinturon_sur[col].var(ddof=1)\n",
    "    estadisticas[col] = {'media': media, 'varianza': varianza}\n",
    "\n",
    "estadisticas"
   ],
   "outputs": [
    {
     "data": {
      "text/plain": [
       "{'price': {'media': np.float64(223094.48070562293),\n",
       "  'varianza': np.float64(14921367508.04902)},\n",
       " 'rooms': {'media': np.float64(3.0177383592017737),\n",
       "  'varianza': np.float64(0.7188858892927542)},\n",
       " 'surface': {'media': np.float64(111.75222363405337),\n",
       "  'varianza': np.float64(4263.051760316337)},\n",
       " 'bathrooms': {'media': np.float64(1.633221850613155),\n",
       "  'varianza': np.float64(0.5717968625577321)}}"
      ]
     },
     "execution_count": 32,
     "metadata": {},
     "output_type": "execute_result"
    }
   ],
   "execution_count": 32
  },
  {
   "attachments": {},
   "cell_type": "markdown",
   "id": "revolutionary-matrix",
   "metadata": {},
   "source": [
    "#### Ejercicio 15\n",
    "\n",
    "¿Cuál es la casa más cara de cada población del cinturón sur de Madríd? (★★☆)\n",
    "\n",
    "> Debes usar el subset obtenido en la pregunta 13\n",
    "\n",
    "- Genera un DataFrame con esta información\n",
    "- Muestra tanto la dirección como el precio de la casa seleccionada de cada población.\n",
    "- Genera conclusiones en una celda markdown"
   ]
  },
  {
   "cell_type": "code",
   "id": "fifteen-browse",
   "metadata": {
    "ExecuteTime": {
     "end_time": "2025-10-14T21:47:08.290361Z",
     "start_time": "2025-10-14T21:47:08.274775Z"
    }
   },
   "source": [
    "idx_max_precio = df_cinturon_sur.groupby('level5')['price'].idxmax()\n",
    "casas_mas_caras = df_cinturon_sur.loc[idx_max_precio, ['level5', 'address', 'price']]\n",
    "casas_mas_caras = casas_mas_caras.reset_index(drop=True)\n",
    "\n",
    "casas_mas_caras"
   ],
   "outputs": [
    {
     "data": {
      "text/plain": [
       "        level5                                address    price\n",
       "0     Alcorcón                               Alcorcón   950000\n",
       "1  Fuenlabrada  Calle de Paulo Freire, 5, Fuenlabrada   490000\n",
       "2       Getafe                                 Getafe  1050000\n",
       "3      Leganés           Avenida Reina Sofía, Leganés   650000"
      ],
      "text/html": [
       "<div>\n",
       "<style scoped>\n",
       "    .dataframe tbody tr th:only-of-type {\n",
       "        vertical-align: middle;\n",
       "    }\n",
       "\n",
       "    .dataframe tbody tr th {\n",
       "        vertical-align: top;\n",
       "    }\n",
       "\n",
       "    .dataframe thead th {\n",
       "        text-align: right;\n",
       "    }\n",
       "</style>\n",
       "<table border=\"1\" class=\"dataframe\">\n",
       "  <thead>\n",
       "    <tr style=\"text-align: right;\">\n",
       "      <th></th>\n",
       "      <th>level5</th>\n",
       "      <th>address</th>\n",
       "      <th>price</th>\n",
       "    </tr>\n",
       "  </thead>\n",
       "  <tbody>\n",
       "    <tr>\n",
       "      <th>0</th>\n",
       "      <td>Alcorcón</td>\n",
       "      <td>Alcorcón</td>\n",
       "      <td>950000</td>\n",
       "    </tr>\n",
       "    <tr>\n",
       "      <th>1</th>\n",
       "      <td>Fuenlabrada</td>\n",
       "      <td>Calle de Paulo Freire, 5, Fuenlabrada</td>\n",
       "      <td>490000</td>\n",
       "    </tr>\n",
       "    <tr>\n",
       "      <th>2</th>\n",
       "      <td>Getafe</td>\n",
       "      <td>Getafe</td>\n",
       "      <td>1050000</td>\n",
       "    </tr>\n",
       "    <tr>\n",
       "      <th>3</th>\n",
       "      <td>Leganés</td>\n",
       "      <td>Avenida Reina Sofía, Leganés</td>\n",
       "      <td>650000</td>\n",
       "    </tr>\n",
       "  </tbody>\n",
       "</table>\n",
       "</div>"
      ]
     },
     "execution_count": 33,
     "metadata": {},
     "output_type": "execute_result"
    }
   ],
   "execution_count": 33
  },
  {
   "metadata": {},
   "cell_type": "markdown",
   "source": [
    "Mi conclusión:\n",
    "Cada población del cinturón sur de Madrid tiene casas con precios máximos distintos.\n",
    "Estas propiedades representan los extremos del mercado en cada área:\n",
    "- Fuenlabrada: Calle de Paulo Freire, 5, Fuenlabrada, precio 490000 €\n",
    "- Leganés: Avenida Reina Sofía, Leganés, precio 650000 €\n",
    "- Getafe: Getafe, precio 1050000 €\n",
    "- Alcorcón: Alcorcón, precio 950000 €\n",
    "\n",
    "Vemos que el precio de la casa más cara varía significativamente entre poblaciones, reflejando diferencias de demanda y características del mercado local."
   ],
   "id": "bef62faa12520d7c"
  },
  {
   "attachments": {},
   "cell_type": "markdown",
   "id": "patent-jonathan",
   "metadata": {},
   "source": [
    "#### Ejercicio 16\n",
    "\n",
    "¿Qué puedes decir acerca del precio por metro cuadrado (precio/m2) entre los municipios de 'Getafe' y 'Alcorcón'? (★★☆)\n",
    "\n",
    "> Debes usar el subset obtenido en la pregunta 13\n",
    ">\n",
    "> Pista: Crea una nueva columna llamada `pps` (price per square en inglés) y luego analiza los valores"
   ]
  },
  {
   "cell_type": "code",
   "id": "initial-liverpool",
   "metadata": {
    "ExecuteTime": {
     "end_time": "2025-10-14T21:48:36.012997Z",
     "start_time": "2025-10-14T21:48:36.007383Z"
    }
   },
   "source": [
    "pps_getafe = round(df_cinturon_sur[df_cinturon_sur['level5'] == 'Getafe']['pps'].mean(), 2)\n",
    "f\"Precio promedio por m² en Getafe: {pps_getafe}\""
   ],
   "outputs": [
    {
     "data": {
      "text/plain": [
       "'Precio promedio por m² en Getafe: 2066.31'"
      ]
     },
     "execution_count": 34,
     "metadata": {},
     "output_type": "execute_result"
    }
   ],
   "execution_count": 34
  },
  {
   "metadata": {
    "ExecuteTime": {
     "end_time": "2025-10-14T21:48:37.661291Z",
     "start_time": "2025-10-14T21:48:37.655798Z"
    }
   },
   "cell_type": "code",
   "source": [
    "pps_alcorcon = round(df_cinturon_sur[df_cinturon_sur['level5'] == 'Alcorcón']['pps'].mean(), 2)\n",
    "f\"Precio promedio por m² en Alcorcón: {pps_alcorcon}\""
   ],
   "id": "f6577d193a2a1a2a",
   "outputs": [
    {
     "data": {
      "text/plain": [
       "'Precio promedio por m² en Alcorcón: 2239.3'"
      ]
     },
     "execution_count": 35,
     "metadata": {},
     "output_type": "execute_result"
    }
   ],
   "execution_count": 35
  },
  {
   "metadata": {},
   "cell_type": "markdown",
   "source": [
    "Comparando el precio por metro cuadrado (pps) entre Getafe y Alcorcón:\n",
    "- Getafe: 2066,31 €/m²\n",
    "- Alcorcón: 2239.3€/m²\n",
    "\n",
    "Veo que el precio por m² es mayor en Alcorcón.\n",
    "Esto indica diferencias en la valorización del suelo y la demanda inmobiliaria entre ambos municipios.\n"
   ],
   "id": "7d19858df3455289"
  },
  {
   "cell_type": "markdown",
   "id": "77f4fb6b000f9e0b",
   "metadata": {},
   "source": [
    "## Conclusiones"
   ]
  },
  {
   "cell_type": "markdown",
   "id": "d68570bb7b80a83e",
   "metadata": {},
   "source": [
    "#### Ejercicio 17\n",
    "\n",
    "El análisis muestra que el mercado inmobiliario no es homogéneo.\n",
    "Los precios, el tamaño de las viviendas y la valorización por metro cuadrado dependen en gran escala de la población y la ubicación. Esto resalta la importancia de segmentar el análisis por municipio y por características de las propiedades para obtener conclusiones precisas y útiles."
   ]
  }
 ],
 "metadata": {
  "kernelspec": {
   "display_name": "Python 3",
   "language": "python",
   "name": "python3"
  },
  "language_info": {
   "codemirror_mode": {
    "name": "ipython",
    "version": 3
   },
   "file_extension": ".py",
   "mimetype": "text/x-python",
   "name": "python",
   "nbconvert_exporter": "python",
   "pygments_lexer": "ipython3",
   "version": "3.11.3"
  }
 },
 "nbformat": 4,
 "nbformat_minor": 5
}
